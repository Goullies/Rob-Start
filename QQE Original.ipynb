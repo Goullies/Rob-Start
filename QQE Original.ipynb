{
 "cells": [
  {
   "cell_type": "code",
   "execution_count": null,
   "metadata": {},
   "outputs": [],
   "source": [
    "import ccxt\n",
    "import json\n",
    "import pandas as pd\n",
    "import numpy as np \n",
    "import confis as os\n",
    "from datetime import date, datetime, timezone,tzinfo\n",
    "import time, schedule\n",
    "import ta"
   ]
  },
  {
   "cell_type": "code",
   "execution_count": null,
   "metadata": {},
   "outputs": [],
   "source": [
    "phemex = ccxt.phemex({\n",
    "    'enableRateLimit': True,\n",
    "    'apiKey': ds.xP_KEY,\n",
    "    'secret: ds.xP_SECRET'\n",
    "})"
   ]
  },
  {
   "cell_type": "code",
   "execution_count": null,
   "metadata": {},
   "outputs": [],
   "source": [
    "symbol = 'uBTCUSD'\n",
    "initial_capital = 1000000\n",
    "pos_size = 1000000\n",
    "RSI_Period = 6\n",
    "SF = 5\n",
    "QQE = 3\n",
    "ThresHold = 3\n",
    "src = input.close "
   ]
  },
  {
   "cell_type": "code",
   "execution_count": null,
   "metadata": {},
   "outputs": [],
   "source": [
    "# Use close data\n",
    "Wilders_Period = RSI_Period *2-1"
   ]
  },
  {
   "cell_type": "code",
   "execution_count": 1,
   "metadata": {},
   "outputs": [
    {
     "ename": "NameError",
     "evalue": "name 'ta' is not defined",
     "output_type": "error",
     "traceback": [
      "\u001b[0;31m---------------------------------------------------------------------------\u001b[0m",
      "\u001b[0;31mNameError\u001b[0m                                 Traceback (most recent call last)",
      "\u001b[0;32m/var/folders/ls/qmp51hls763c6vbq27xv74zw0000gn/T/ipykernel_30813/3800447695.py\u001b[0m in \u001b[0;36m<module>\u001b[0;34m\u001b[0m\n\u001b[1;32m      1\u001b[0m \u001b[0;31m#Get RSI\u001b[0m\u001b[0;34m\u001b[0m\u001b[0;34m\u001b[0m\u001b[0;34m\u001b[0m\u001b[0m\n\u001b[0;32m----> 2\u001b[0;31m \u001b[0mRsi\u001b[0m \u001b[0;34m=\u001b[0m \u001b[0mta\u001b[0m\u001b[0;34m.\u001b[0m\u001b[0mrsi\u001b[0m\u001b[0;34m(\u001b[0m\u001b[0msrc\u001b[0m\u001b[0;34m,\u001b[0m \u001b[0mRSI_Period\u001b[0m\u001b[0;34m)\u001b[0m \u001b[0;31m#TODO\u001b[0m\u001b[0;34m\u001b[0m\u001b[0;34m\u001b[0m\u001b[0m\n\u001b[0m\u001b[1;32m      3\u001b[0m \u001b[0mRsiMA\u001b[0m \u001b[0;34m=\u001b[0m \u001b[0mta\u001b[0m\u001b[0;34m.\u001b[0m\u001b[0mema\u001b[0m\u001b[0;34m(\u001b[0m\u001b[0mRsi\u001b[0m\u001b[0;34m,\u001b[0m \u001b[0mSF\u001b[0m\u001b[0;34m)\u001b[0m\u001b[0;34m\u001b[0m\u001b[0;34m\u001b[0m\u001b[0m\n\u001b[1;32m      4\u001b[0m \u001b[0mATRRSI\u001b[0m \u001b[0;34m=\u001b[0m \u001b[0mabs\u001b[0m\u001b[0;34m(\u001b[0m\u001b[0mRsiMA\u001b[0m\u001b[0;34m[\u001b[0m\u001b[0;36m1\u001b[0m\u001b[0;34m]\u001b[0m \u001b[0;34m-\u001b[0m \u001b[0mRsiMA\u001b[0m\u001b[0;34m)\u001b[0m \u001b[0;31m#TODO\u001b[0m\u001b[0;34m\u001b[0m\u001b[0;34m\u001b[0m\u001b[0m\n\u001b[1;32m      5\u001b[0m \u001b[0mMaAtrRsi\u001b[0m \u001b[0;34m-\u001b[0m \u001b[0mta\u001b[0m\u001b[0;34m.\u001b[0m\u001b[0mema\u001b[0m\u001b[0;34m(\u001b[0m\u001b[0mAtrRsi\u001b[0m\u001b[0;34m,\u001b[0m \u001b[0mWilders_Period\u001b[0m\u001b[0;34m)\u001b[0m  \u001b[0;31m# TODO\u001b[0m\u001b[0;34m\u001b[0m\u001b[0;34m\u001b[0m\u001b[0m\n",
      "\u001b[0;31mNameError\u001b[0m: name 'ta' is not defined"
     ]
    }
   ],
   "source": [
    "#Get RSI\n",
    "Rsi = ta.rsi(src, RSI_Period) #TODO\n",
    "RsiMA = ta.ema(Rsi, SF)\n",
    "ATRRSI = abs(RsiMA[1] - RsiMA) #TODO\n",
    "MaAtrRsi - ta.ema(AtrRsi, Wilders_Period)  # TODO\n",
    "dar = ta.ema(MaAtrRsi, Wilders_Period) * QQE"
   ]
  },
  {
   "cell_type": "code",
   "execution_count": null,
   "metadata": {},
   "outputs": [],
   "source": [
    "longband = 0\n",
    "shortband = 0\n",
    "trend = 0\n",
    "\n",
    "DeltaFastAtrRsi = dar\n",
    "RSIndex = RsiMA\n",
    "newshortband = RSIndex + DeltaFastAtrRsi\n",
    "newlongband = RSIndex - DeltaFastAtrRsi"
   ]
  },
  {
   "cell_type": "code",
   "execution_count": null,
   "metadata": {},
   "outputs": [],
   "source": [
    "#longband := RSIndex[1] > longband[1] and RSIndex > longband[1]\n",
    " #   math.max(longband[1], newlongband) : newlongband\n",
    "\n",
    "\n",
    "# TODO\n",
    "if  (RSIndex[1] > longband[1]) and (RSIndex > longband[1]):\n",
    "    longband =  math.max(longband[1], newlongband)\n",
    "else:\n",
    "    longband = newlongband\n"
   ]
  },
  {
   "cell_type": "code",
   "execution_count": null,
   "metadata": {},
   "outputs": [],
   "source": [
    "if (RSIndex[1] < shortband[1]) and (RSIndex > shortband[1]):\n",
    "    shortband = math.min(shortband[1], newshortband)\n",
    "else: \n",
    "    shortband = newshortband\n",
    "\n",
    "#TODO\n",
    "cross_1 = ta.cross(longband[1], RSIndex)\n",
    "\n",
    "if ta.cross(RSIndex, shortband[1]) == True:\n",
    "    trend = 1\n",
    "elif: cross_1 == True:\n",
    "    trend = -1\n",
    "else:\n",
    "    trend = nz(trend[1], 1)   # \"nz \" not defined\n"
   ]
  },
  {
   "cell_type": "code",
   "execution_count": null,
   "metadata": {},
   "outputs": [],
   "source": [
    "# FastAtrRsiTL = trend == 1 ? longband : shortband\n",
    "if trend  == 1:\n",
    "    FastAtrRsiTL = longband\n",
    "else:\n",
    "    FastAtrRsiTL = shortband"
   ]
  },
  {
   "cell_type": "code",
   "execution_count": null,
   "metadata": {},
   "outputs": [],
   "source": [
    "length = 50\n",
    "mult = 0.35\n",
    "basis = ta.sma(FastAtrRsiTL - 50, length)\n",
    "dev = mult * ta.stdev(FastAtrRsiTL -50, length)\n",
    "upper = basis + dev\n",
    "lower = basis - dev\n"
   ]
  },
  {
   "cell_type": "code",
   "execution_count": null,
   "metadata": {},
   "outputs": [],
   "source": [
    "blue = \"00c3ff\"\n",
    "red = \"#ff0062\"\n",
    "gray = \"808080"
   ]
  },
  {
   "cell_type": "code",
   "execution_count": null,
   "metadata": {},
   "outputs": [],
   "source": [
    "if RsiMa - 50 > upper:\n",
    "    color_bar = blue\n",
    "    \n",
    "if RsiMa - 50 < lower:\n",
    "    color_bar = red\n",
    "else:\n",
    "    color = gray"
   ]
  },
  {
   "cell_type": "code",
   "execution_count": null,
   "metadata": {},
   "outputs": [],
   "source": [
    "QQEzlong = 0\n",
    "QQEzshort = 0\n",
    "QQEzlong = nz(QQEzlong[1])\n",
    "QQEzshort = nz(QQEzshort[1])"
   ]
  },
  {
   "cell_type": "code",
   "execution_count": null,
   "metadata": {},
   "outputs": [],
   "source": [
    "if RSIndex >= 50:\n",
    "    QQEzlong = QQEzlong + 1 \n",
    "else:\n",
    "    QQEzlong = 0"
   ]
  },
  {
   "cell_type": "code",
   "execution_count": 1,
   "metadata": {},
   "outputs": [
    {
     "ename": "NameError",
     "evalue": "name 'RSIndex' is not defined",
     "output_type": "error",
     "traceback": [
      "\u001b[0;31m---------------------------------------------------------------------------\u001b[0m",
      "\u001b[0;31mNameError\u001b[0m                                 Traceback (most recent call last)",
      "\u001b[0;32m/var/folders/ls/qmp51hls763c6vbq27xv74zw0000gn/T/ipykernel_30533/2043488214.py\u001b[0m in \u001b[0;36m<module>\u001b[0;34m\u001b[0m\n\u001b[0;32m----> 1\u001b[0;31m \u001b[0;32mif\u001b[0m \u001b[0mRSIndex\u001b[0m \u001b[0;34m<=\u001b[0m \u001b[0;36m50\u001b[0m\u001b[0;34m:\u001b[0m\u001b[0;34m\u001b[0m\u001b[0;34m\u001b[0m\u001b[0m\n\u001b[0m\u001b[1;32m      2\u001b[0m     \u001b[0mQQEzshort\u001b[0m \u001b[0;34m=\u001b[0m \u001b[0mQQEzshort\u001b[0m \u001b[0;34m+\u001b[0m \u001b[0;36m1\u001b[0m\u001b[0;34m\u001b[0m\u001b[0;34m\u001b[0m\u001b[0m\n\u001b[1;32m      3\u001b[0m \u001b[0;32melse\u001b[0m\u001b[0;34m:\u001b[0m\u001b[0;34m\u001b[0m\u001b[0;34m\u001b[0m\u001b[0m\n\u001b[1;32m      4\u001b[0m     \u001b[0mQQEzshort\u001b[0m \u001b[0;34m=\u001b[0m \u001b[0;36m0\u001b[0m\u001b[0;34m\u001b[0m\u001b[0;34m\u001b[0m\u001b[0m\n",
      "\u001b[0;31mNameError\u001b[0m: name 'RSIndex' is not defined"
     ]
    }
   ],
   "source": [
    "if RSIndex <= 50:\n",
    "    QQEzshort = QQEzshort + 1 \n",
    "else:\n",
    "    QQEzshort = 0"
   ]
  },
  {
   "cell_type": "code",
   "execution_count": 2,
   "metadata": {},
   "outputs": [
    {
     "ename": "SyntaxError",
     "evalue": "unexpected EOF while parsing (1355074842.py, line 1)",
     "output_type": "error",
     "traceback": [
      "\u001b[0;36m  File \u001b[0;32m\"/var/folders/ls/qmp51hls763c6vbq27xv74zw0000gn/T/ipykernel_30533/1355074842.py\"\u001b[0;36m, line \u001b[0;32m1\u001b[0m\n\u001b[0;31m    Zero = hline(#TODO)\u001b[0m\n\u001b[0m                       ^\u001b[0m\n\u001b[0;31mSyntaxError\u001b[0m\u001b[0;31m:\u001b[0m unexpected EOF while parsing\n"
     ]
    }
   ],
   "source": []
  },
  {
   "cell_type": "code",
   "execution_count": 3,
   "metadata": {},
   "outputs": [
    {
     "ename": "SyntaxError",
     "evalue": "invalid syntax (2315693659.py, line 2)",
     "output_type": "error",
     "traceback": [
      "\u001b[0;36m  File \u001b[0;32m\"/var/folders/ls/qmp51hls763c6vbq27xv74zw0000gn/T/ipykernel_30533/2315693659.py\"\u001b[0;36m, line \u001b[0;32m2\u001b[0m\n\u001b[0;31m    SF@ = 5\u001b[0m\n\u001b[0m        ^\u001b[0m\n\u001b[0;31mSyntaxError\u001b[0m\u001b[0;31m:\u001b[0m invalid syntax\n"
     ]
    }
   ],
   "source": [
    "RSI_Period2 = 6\n",
    "SF@ = 5\n",
    "QQE2 = 1.61\n",
    "ThresHold2 = 3\n",
    "# src2 = close  # Dont think we need"
   ]
  },
  {
   "cell_type": "code",
   "execution_count": 4,
   "metadata": {},
   "outputs": [
    {
     "ename": "SyntaxError",
     "evalue": "invalid syntax (320916705.py, line 48)",
     "output_type": "error",
     "traceback": [
      "\u001b[0;36m  File \u001b[0;32m\"/var/folders/ls/qmp51hls763c6vbq27xv74zw0000gn/T/ipykernel_30533/320916705.py\"\u001b[0;36m, line \u001b[0;32m48\u001b[0m\n\u001b[0;31m    elif: cross_2 == True:\u001b[0m\n\u001b[0m        ^\u001b[0m\n\u001b[0;31mSyntaxError\u001b[0m\u001b[0;31m:\u001b[0m invalid syntax\n"
     ]
    }
   ],
   "source": [
    "#Wilders_Period2  = RSI_Period2 * 2-1\n",
    "\n",
    "RSI_Period2 = 6\n",
    "SF2 = 5\n",
    "QQE2 = 3\n",
    "ThreshHold2 = 3\n",
    "src2 = input.close \n",
    "#### Setting up the 2's\n",
    "Wilders_Period2  = RSI_Period2 * 2-1\n",
    "\n",
    "src2 = close_data # TODO get close data\n",
    "\n",
    "Rsi2 = ta.rsi(src2, RSI_Period2) #T ODO\n",
    "RsiMA2 = ta.ema(Rsi2, SF2)\n",
    "ATRRSI2 = abs(RsiMA2[1] - RsiMA2) # TODO\n",
    "MaAtrRsi2 - ta.ema(AtrRsi2, Wilders_Period2)  # TODO\n",
    "dar2 = ta.ema(MaAtrRsi2, Wilders_Period2) * QQE\n",
    "\n",
    "longband2 = 0\n",
    "shortband2 = 0\n",
    "trend2 = 0\n",
    "\n",
    "DeltaFastAtrRsi2 = dar2\n",
    "RSIndex2 = RsiMA2\n",
    "newshortband2 = RSIndex2 + DeltaFastAtrRsi2\n",
    "newlongband2 = RSIndex2 - DeltaFastAtrRsi2\n",
    "\n",
    "#longband := RSIndex[1] > longband[1] and RSIndex > longband[1]\n",
    " #   math.max(longband[1], newlongband) : newlongband\n",
    "\n",
    "\n",
    "# TODO\n",
    "if  (RSIndex2[1] > longband2[1]) and (RSIndex2 > longband2[1]):\n",
    "    longband2 =  math.max(longband2[1], newlongband2)\n",
    "else:\n",
    "    longband2 = newlongband2\n",
    "\n",
    "if (RSIndex2[1] < shortband2[1]) and (RSIndex2 > shortband2[1]):\n",
    "    shortband2 = math.min(shortband2[1], newshortband2)\n",
    "else: \n",
    "    shortband2 = newshortband2\n",
    "\n",
    "#TODO\n",
    "cross_2 = ta.cross(longband2[1], RSIndex2)\n",
    "\n",
    "if ta.cross(RSIndex2, shortband2[1]) == True:\n",
    "    trend2 = 1\n",
    "elif: cross_2 == True:\n",
    "    trend2 = -1\n",
    "else:\n",
    "    trend2 = nz(trend2[1], 1)   # \"nz \" not defined\n",
    "\n",
    "# FastAtrRsiTL = trend == 1 ? longband : shortband\n",
    "if trend2  == 1:\n",
    "    FastAtrRsiTL2 = longband2\n",
    "else:\n",
    "    FastAtrRsiTL2 = shortband2\n",
    "\n",
    "length = 50\n",
    "mult = 0.35\n",
    "basis = ta.sma(FastAtrRsiTL - 50, length)\n",
    "dev = mult * ta.stdev(FastAtrRsiTL -50, length)\n",
    "upper = basis + dev\n",
    "lower = basis - dev\n",
    "\n",
    "blue = \"00c3ff\"\n",
    "red = \"#ff0062\"\n",
    "gray = \"808080\n",
    "\n",
    "if RsiMa - 50 > upper:\n",
    "    color_bar = blue\n",
    "    \n",
    "if RsiMa - 50 < lower:\n",
    "    color_bar = red\n",
    "else:\n",
    "    color = gray\n",
    "\n",
    "QQE2zlong = 0\n",
    "QQE2zshort = 0\n",
    "QQE2zlong = nz(QQEzlong[1])\n",
    "QQE2zshort = nz(QQEzshort[1])\n",
    "\n",
    "if RSIndex2 >= 50:\n",
    "    QQE2zlong = QQE2zlong + 1 \n",
    "else:\n",
    "    QQE2zlong = 0\n",
    "\n",
    "if RSIndex2 <= 50:\n",
    "    QQE2zshort = QQE2zshort + 1 \n",
    "else:\n",
    "    QQE2zshort = 0"
   ]
  },
  {
   "cell_type": "code",
   "execution_count": null,
   "metadata": {},
   "outputs": [],
   "source": [
    "silver = '#C0C0C0'\n",
    "\n",
    "if (RsiMA2 -50 > ThreshHold2):\n",
    "    hcolor2 = silver\n",
    "elif (RsiMA2 - 50) < (0 - ThreshHold2):\n",
    "    hcolor2 = silver\n",
    "else:\n",
    "    hcolor = None\n",
    "\n",
    "# True or False below\n",
    "\n",
    "Greenbar1 = RsiMa2 - 50 < ThreshHold2\n",
    "Greenbar2 = RsiMa2 - 50 > upper\n",
    "\n",
    "Redbar1 = RsiMa2 - 50 < ThreshHold2\n",
    "Redbar2 = RsiMa2 - 50 < lower"
   ]
  }
 ],
 "metadata": {
  "kernelspec": {
   "display_name": "Python 3.7.13 ('algotrading')",
   "language": "python",
   "name": "python3"
  },
  "language_info": {
   "codemirror_mode": {
    "name": "ipython",
    "version": 3
   },
   "file_extension": ".py",
   "mimetype": "text/x-python",
   "name": "python",
   "nbconvert_exporter": "python",
   "pygments_lexer": "ipython3",
   "version": "3.7.13"
  },
  "orig_nbformat": 4,
  "vscode": {
   "interpreter": {
    "hash": "cba8d602499614a3a87c5212f985c63a20a5b64049b6df8b8b0650e24c73e06c"
   }
  }
 },
 "nbformat": 4,
 "nbformat_minor": 2
}
